{
  "nbformat": 4,
  "nbformat_minor": 0,
  "metadata": {
    "colab": {
      "name": "HYPERGEOMETRIC DISTRIBUTION.ipynb",
      "provenance": []
    },
    "kernelspec": {
      "name": "python3",
      "display_name": "Python 3"
    },
    "language_info": {
      "name": "python"
    }
  },
  "cells": [
    {
      "cell_type": "markdown",
      "metadata": {
        "id": "3zWgC1EOE2ZF"
      },
      "source": [
        "# HYPERGEOMETRIC DISTRIBUTION\n",
        "\n",
        "The hypergeometric distribution, like the binomial distribution, consists of two possible outcomes: success and failure. However, the user must know the size of the population and the proportion of successes and failures in the population to apply the hypergeometric distribution. In other words, because the hypergeometric distribution is used when\n",
        "sampling is done without replacement, information about population makeup must be known in order to redetermine the probability of a success in each successive trial as the probability changes.\n",
        "\n",
        "<h1>The hypergeometric distribution has the following characteristics:</h1>\n",
        "\n",
        "■ It is discrete distribution.\n",
        "\n",
        "■ Each outcome consists of either a success or a failure.\n",
        "\n",
        "■ Sampling is done without replacement.\n",
        "\n",
        "■ The population, N, is finite and known.\n",
        "\n",
        "■ The number of successes in the population, A, is known.\n",
        "\n",
        "<h2>Formula</h2>\n",
        "$$P (x) = \\frac {_{A} C_{x} .  _{N-A} C_{n-x}}\n",
        "{_{N} C_{n}}$$\n",
        "\n",
        "$$ \\textrm{where}$$\n",
        "\n",
        "$$ N = \\textrm{size of the population}$$\n",
        "\n",
        "$$n = \\textrm{sample size}$$\n",
        "\n",
        "$$A = \\textrm{number of successes in the population}$$\n",
        "\n",
        "$$ x = \\textrm{number of successes in the sample; \n",
        "sampling is done without replacement}\n",
        "$$"
      ]
    },
    {
      "cell_type": "code",
      "metadata": {
        "id": "9_wpW8MPEzo7"
      },
      "source": [
        "import numpy as np\n",
        "from scipy.stats import hypergeom as hy"
      ],
      "execution_count": 1,
      "outputs": []
    },
    {
      "cell_type": "markdown",
      "metadata": {
        "id": "aJV1xAXFWDbe"
      },
      "source": [
        "**Suppose 18 major computer companies operate in the United States and that 12 are\n",
        "located in California’s Silicon Valley. If three computer companies are selected randomly\n",
        "from the entire list, what is the probability that one or more of the selected\n",
        "companies are located in the Silicon Valley?**\n",
        "\n",
        "$$N=18$$\n",
        "$$n=3$$\n",
        "$$A=12$$\n",
        "$$x>=1$$"
      ]
    },
    {
      "cell_type": "code",
      "metadata": {
        "colab": {
          "base_uri": "https://localhost:8080/"
        },
        "id": "Hq8aZ7o2NmdS",
        "outputId": "c09519fb-9760-47da-f4b8-cec4af1c4809"
      },
      "source": [
        "pval=hy.sf(0,18,3,12) #hypergeom.sf(x-1,N,n,A) sf=a-cdf\n",
        "print(pval)"
      ],
      "execution_count": 3,
      "outputs": [
        {
          "output_type": "stream",
          "text": [
            "0.9754901960784306\n"
          ],
          "name": "stdout"
        }
      ]
    },
    {
      "cell_type": "markdown",
      "metadata": {
        "id": "wOS7GJycaMhk"
      },
      "source": [
        "probability that one or more of the selected companies are located in the Silicon Valley is 97.55%"
      ]
    },
    {
      "cell_type": "markdown",
      "metadata": {
        "id": "Z60T1JnaZnUl"
      },
      "source": [
        "**A western city has 18 police officers eligible for promotion. Eleven of the 18 are Hispanic. Suppose only 5 of the police officers are chosen for promotion and that 1 is Hispanic. If the officers chosen for promotion had been selected by chance alone, what is the probability that 1 or fewer of the 5 promoted officers would have been Hispanic? What might this result indicate?**\n",
        "\n",
        "$$N=18$$\n",
        "$$n=5$$\n",
        "$$A=11$$\n",
        "$$x<= 1$$"
      ]
    },
    {
      "cell_type": "code",
      "metadata": {
        "colab": {
          "base_uri": "https://localhost:8080/"
        },
        "id": "qnBh43_VWwPV",
        "outputId": "efc7bd2d-0f2d-4f23-e52e-bbb8cbb1e5cf"
      },
      "source": [
        "pval=hy.cdf(1,18,5,11)\n",
        "print(pval)"
      ],
      "execution_count": 4,
      "outputs": [
        {
          "output_type": "stream",
          "text": [
            "0.04738562091503275\n"
          ],
          "name": "stdout"
        }
      ]
    },
    {
      "cell_type": "markdown",
      "metadata": {
        "id": "Zm77gLrHaQ1s"
      },
      "source": [
        "robability that 1 or fewer of the 5 promoted officers would have been Hispanic is 4.73%"
      ]
    },
    {
      "cell_type": "markdown",
      "metadata": {
        "id": "szb9WuSua93T"
      },
      "source": [
        "**Catalog Age lists the top 17 U.S. firms in annual catalog sales. Dell Computer is number one followed by IBM and W.W. Grainger. Of the 17 firms on the list, 8 are in some type of computer-related business. Suppose four firms are randomly selected.**\n",
        "\n",
        "**a. What is the probability that none of the firms is in some type of computer-related business?**\n",
        "\n",
        "**b. What is the probability that all four firms are in some type of computer-related business?**\n",
        "\n",
        "**c. What is the probability that exactly two are in non-computer-related business?**"
      ]
    },
    {
      "cell_type": "code",
      "metadata": {
        "colab": {
          "base_uri": "https://localhost:8080/"
        },
        "id": "pW0aYJLHbDXc",
        "outputId": "3e8198b9-6f5f-43f2-f3b5-35f487178cb2"
      },
      "source": [
        "#a. What is the probability that none of the firms is in some type of computer-related business?\n",
        "pval=hy.pmf(0,17,4,8)\n",
        "print(pval)"
      ],
      "execution_count": 5,
      "outputs": [
        {
          "output_type": "stream",
          "text": [
            "0.05294117647058814\n"
          ],
          "name": "stdout"
        }
      ]
    },
    {
      "cell_type": "code",
      "metadata": {
        "colab": {
          "base_uri": "https://localhost:8080/"
        },
        "id": "GxIa8GCybhGL",
        "outputId": "b08ddbc1-7566-4ab9-851c-c2e358424e2f"
      },
      "source": [
        "#b. What is the probability that all four firms are in some type of computer-related business?\n",
        "prob=hy.pmf(4,17,4,8)\n",
        "print(round(prob,5))"
      ],
      "execution_count": 7,
      "outputs": [
        {
          "output_type": "stream",
          "text": [
            "0.02941\n"
          ],
          "name": "stdout"
        }
      ]
    },
    {
      "cell_type": "code",
      "metadata": {
        "colab": {
          "base_uri": "https://localhost:8080/"
        },
        "id": "--twESlDb-pi",
        "outputId": "1b4c6f17-4f4f-453d-ee82-6223364a014a"
      },
      "source": [
        "#c. What is the probability that exactly two are in non-computer-related business?\n",
        "prob=hy.pmf(2,17,4,9)\n",
        "print(round(prob,4))"
      ],
      "execution_count": 11,
      "outputs": [
        {
          "output_type": "stream",
          "text": [
            "0.4235\n"
          ],
          "name": "stdout"
        }
      ]
    }
  ]
}