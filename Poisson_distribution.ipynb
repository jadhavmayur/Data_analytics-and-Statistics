{
  "nbformat": 4,
  "nbformat_minor": 0,
  "metadata": {
    "colab": {
      "name": "Poisson distribution.ipynb",
      "provenance": []
    },
    "kernelspec": {
      "name": "python3",
      "display_name": "Python 3"
    },
    "language_info": {
      "name": "python"
    }
  },
  "cells": [
    {
      "cell_type": "markdown",
      "metadata": {
        "id": "n67O9VaOV8FN"
      },
      "source": [
        "# Poisson distribution\n",
        "The Poisson distribution and the binomial distribution have some similarities\n",
        "but also several differences. The binomial distribution describes a distribution\n",
        "of two possible outcomes designated as successes and failures from a given\n",
        "number of trials. The Poisson distribution focuses only on the number of discrete occurrences over some interval or continuum. A Poisson experiment does not have a given number of trials (n) as a binomial experiment does.\n",
        "\n",
        "**The Poisson distribution describes the occurrence of rare events. In fact, the Poisson formula has been referred to as the law of improbable events. For example, serious accidents at a chemical plant are rare, and the number per month might be described by the Poisson distribution.**\n",
        "\n",
        "<h1>The Poisson distribution has the following characteristics:</h1>\n",
        "\n",
        "■ It is a discrete distribution.\n",
        "\n",
        "■ It describes rare events.\n",
        "\n",
        "■ Each occurrence is independent of the other occurrences.\n",
        "\n",
        "■ It describes discrete occurrences over a continuum or interval.\n",
        "\n",
        "■ The occurrences in each interval can range from zero to infinity.\n",
        "\n",
        "■ The expected number of occurrences must hold constant throughout the experiment.\n",
        "\n",
        "<h2>Formula</h2>\n",
        "\n",
        "$$P (x) =\\frac{\\lambda ^x e^\\lambda}{x!}$$\n",
        "\n",
        "\n",
        "where\n",
        "\n",
        "$$x = 0, 1, 2, 3, . . .$$\n",
        "\n",
        "$$\\lambda = long -run ,average $$\n",
        "\n",
        "$$e = 2.718282$$"
      ]
    },
    {
      "cell_type": "code",
      "metadata": {
        "id": "q3HKamTUVKON"
      },
      "source": [
        "import numpy as np\n",
        "import pandas as pd\n",
        "from scipy.stats import poisson as po"
      ],
      "execution_count": 2,
      "outputs": []
    },
    {
      "cell_type": "markdown",
      "metadata": {
        "id": "LbsP0ecrL570"
      },
      "source": [
        "**Suppose bank customers arrive randomly on weekday afternoons at an average of 3.2\n",
        "customers every 4 minutes. What is the probability of exactly 5 customers arriving in a\n",
        "4-minute interval on a weekday afternoon?**\n",
        "\n",
        "$$\\lambda=3.2$$\n",
        "$$x=5$$"
      ]
    },
    {
      "cell_type": "code",
      "metadata": {
        "id": "pPwZG4qwseGz",
        "colab": {
          "base_uri": "https://localhost:8080/"
        },
        "outputId": "61e00f6d-bd8c-4b87-df46-c2c613d2e578"
      },
      "source": [
        "prob=po.pmf(5,3.2)\n",
        "print(round(prob,4))"
      ],
      "execution_count": 7,
      "outputs": [
        {
          "output_type": "stream",
          "text": [
            "0.114\n"
          ],
          "name": "stdout"
        }
      ]
    },
    {
      "cell_type": "markdown",
      "metadata": {
        "id": "G-DvZJC_TS4C"
      },
      "source": [
        "probability of exactly 5 customers arriving in a 4-minute interval on a weekday afternoon is 1.14%"
      ]
    },
    {
      "cell_type": "markdown",
      "metadata": {
        "id": "7L4BMtg8RpIa"
      },
      "source": [
        "**Bank customers arrive randomly on weekday afternoons at an average of 3.2 customers\n",
        "every 4 minutes. What is the probability of having more than 7 customers in\n",
        "a 4-minute interval on a weekday afternoon?**\n",
        "\n",
        "$$\\lambda=3.2$$\n",
        "$$x>7$$"
      ]
    },
    {
      "cell_type": "code",
      "metadata": {
        "id": "rYarn2XDRo5K"
      },
      "source": [
        "prob=po.cdf(7,3.2)"
      ],
      "execution_count": 9,
      "outputs": []
    },
    {
      "cell_type": "code",
      "metadata": {
        "colab": {
          "base_uri": "https://localhost:8080/"
        },
        "id": "bZIfMdgDSqXq",
        "outputId": "a24377ab-e010-42c7-f3d6-6812b0f10910"
      },
      "source": [
        "prob_more_than_7=1-prob\n",
        "print(round(prob_more_than_7,4))"
      ],
      "execution_count": 10,
      "outputs": [
        {
          "output_type": "stream",
          "text": [
            "0.0168\n"
          ],
          "name": "stdout"
        }
      ]
    },
    {
      "cell_type": "markdown",
      "metadata": {
        "id": "1EkmvjoATCeZ"
      },
      "source": [
        "probability of of having more than 7 custumer in 4 minute is 1.68 %"
      ]
    },
    {
      "cell_type": "markdown",
      "metadata": {
        "id": "g1zgrzzJT-Cj"
      },
      "source": [
        "**A bank has an average random arrival rate of 3.2 customers every 4 minutes. What\n",
        "is the probability of getting exactly 10 customers during an 8-minute interval?**\n",
        "\n",
        "$$\\lambda=3.2 custumers/4 minutes$$\n",
        "$$ x=10 custumers/10 minutes$$\n",
        "\n",
        "$$ Hence$$\n",
        "\n",
        "$$\\lambda=6.4 custumers/8 minutes$$\n",
        "$$ x=10 custumers/10 minutes$$\n"
      ]
    },
    {
      "cell_type": "code",
      "metadata": {
        "colab": {
          "base_uri": "https://localhost:8080/"
        },
        "id": "cJT74bIRUxBZ",
        "outputId": "b71de61e-5036-455a-8dbc-f3425b850a5c"
      },
      "source": [
        "print(po.pmf(10,6.4))"
      ],
      "execution_count": 11,
      "outputs": [
        {
          "output_type": "stream",
          "text": [
            "0.052790043854115495\n"
          ],
          "name": "stdout"
        }
      ]
    },
    {
      "cell_type": "markdown",
      "metadata": {
        "id": "-eO7yHonU6r5"
      },
      "source": [
        "probability of getting exactly 10 customers during an 8-minute interval is 5.28 %"
      ]
    },
    {
      "cell_type": "markdown",
      "metadata": {
        "id": "pSFsz8-mYZSw"
      },
      "source": [
        "**The average number of annual trips per family to amusement parks in the United\n",
        "States is Poisson distributed, with a mean of 0.6 trips per year.What is the probability of randomly selecting an American family and finding the following?**\n",
        "* **The family did not make a trip to an amusement park last year.**\n",
        "* **The family took exactly one trip to an amusement park last year.**\n",
        "* **The family took two or more trips to amusement parks last year.**\n",
        "* **The family took three or fewer trips to amusement parks over a three-year period.**\n",
        "* **The family took exactly four trips to amusement parks during a six-year period.**\n",
        "\n",
        "\n",
        "$$\\lambda=0.6$$"
      ]
    },
    {
      "cell_type": "code",
      "metadata": {
        "colab": {
          "base_uri": "https://localhost:8080/"
        },
        "id": "tBkDXZzIVhDi",
        "outputId": "363a7098-4b70-41cd-cc81-216937d29a69"
      },
      "source": [
        "#The family did not make a trip to an amusement park last year.\n",
        "print(po.pmf(0,0.6))"
      ],
      "execution_count": 16,
      "outputs": [
        {
          "output_type": "stream",
          "text": [
            "0.5488116360940264\n"
          ],
          "name": "stdout"
        }
      ]
    },
    {
      "cell_type": "code",
      "metadata": {
        "colab": {
          "base_uri": "https://localhost:8080/"
        },
        "id": "z5kWhOkjZMsP",
        "outputId": "2e7863ec-8b5d-4c41-eb0e-e90ae0c8d598"
      },
      "source": [
        "#The family took exactly one trip to an amusement park last year.\n",
        "print(po.pmf(1,0.6))"
      ],
      "execution_count": 17,
      "outputs": [
        {
          "output_type": "stream",
          "text": [
            "0.3292869816564159\n"
          ],
          "name": "stdout"
        }
      ]
    },
    {
      "cell_type": "code",
      "metadata": {
        "colab": {
          "base_uri": "https://localhost:8080/"
        },
        "id": "8EFPIJPUZVXH",
        "outputId": "b78eefe9-e1b6-496c-8d9f-5df794711a41"
      },
      "source": [
        "#The family took two or more trips to amusement parks last year.\n",
        "prob=po.cdf(1,0.6)\n",
        "print(round(1-prob,5))"
      ],
      "execution_count": 22,
      "outputs": [
        {
          "output_type": "stream",
          "text": [
            "0.1219\n"
          ],
          "name": "stdout"
        }
      ]
    },
    {
      "cell_type": "code",
      "metadata": {
        "colab": {
          "base_uri": "https://localhost:8080/"
        },
        "id": "jY_KGyiaZ8rU",
        "outputId": "dc20d8c8-da81-4f3d-9b00-fb658948b1db"
      },
      "source": [
        "#The family took three or fewer trips to amusement parks over a three-year period.\n",
        "# λ=0.6 per year hence λ=1.8 for three year\n",
        "\n",
        "print(po.cdf(3,1.8))"
      ],
      "execution_count": 24,
      "outputs": [
        {
          "output_type": "stream",
          "text": [
            "0.8912916052907945\n"
          ],
          "name": "stdout"
        }
      ]
    },
    {
      "cell_type": "code",
      "metadata": {
        "colab": {
          "base_uri": "https://localhost:8080/"
        },
        "id": "TGVZ4EfwaU6-",
        "outputId": "fefa8387-89c5-4cee-ebf1-e4d5ecc422bc"
      },
      "source": [
        "#The family took exactly four trips to amusement parks during a six-year period.\n",
        "# λ=0.6 per year hence λ=3.6 for six year\n",
        "print(po.pmf(4,3.6))"
      ],
      "execution_count": 25,
      "outputs": [
        {
          "output_type": "stream",
          "text": [
            "0.19122233917513215\n"
          ],
          "name": "stdout"
        }
      ]
    }
  ]
}